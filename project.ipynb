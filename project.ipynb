{
 "cells": [
  {
   "cell_type": "markdown",
   "id": "norman-crest",
   "metadata": {},
   "source": [
    "# TAL - Classification de dépêches d’agence avec NLTK"
   ]
  },
  {
   "cell_type": "code",
   "execution_count": 32,
   "id": "dying-winner",
   "metadata": {},
   "outputs": [],
   "source": [
    "# importing modules\n",
    "import nltk\n",
    "from nltk.corpus import reuters\n",
    "from nltk.corpus import stopwords \n",
    "import string\n",
    "from nltk.stem import WordNetLemmatizer"
   ]
  },
  {
   "cell_type": "code",
   "execution_count": 35,
   "id": "informational-filling",
   "metadata": {},
   "outputs": [
    {
     "name": "stdout",
     "output_type": "stream",
     "text": [
      "(['asian', 'exporter', 'fear', 'damage', 'u', 'japan', 'rift', 'mounting', 'trade', 'friction', 'u', 'japan', 'raised', 'fear', 'among', 'many', 'asia', 'exporting', 'nation', 'row', 'could', 'inflict', 'far', 'reaching', 'economic', 'damage', 'businessmen', 'official', 'said', 'told', 'reuter', 'correspondent', 'asian', 'capital', 'u', 'move', 'japan', 'might', 'boost', 'protectionist', 'sentiment', 'u', 'lead', 'curb', 'american', 'import', 'product', 'exporter', 'said', 'conflict', 'would', 'hurt', 'long', 'run', 'short', 'term', 'tokyo', 'loss', 'might', 'gain', 'u', 'said', 'impose', '300', 'mln', 'dlrs', 'tariff', 'import', 'japanese', 'electronics', 'good', 'april', '17', 'retaliation', 'japan', 'alleged', 'failure', 'stick', 'pact', 'sell', 'semiconductor', 'world', 'market', 'cost', 'unofficial', 'japanese', 'estimate', 'put', 'impact', 'tariff', '10', 'billion', 'dlrs', 'spokesman', 'major', 'electronics', 'firm', 'said', 'would', 'virtually', 'halt', 'export', 'product', 'hit', 'new', 'tax', 'able', 'business', 'said', 'spokesman', 'leading', 'japanese', 'electronics', 'firm', 'matsushita', 'electric', 'industrial', 'co', 'ltd', 'lt', 'mc', 'tariff', 'remain', 'place', 'length', 'time', 'beyond', 'month', 'mean', 'complete', 'erosion', 'export', 'good', 'subject', 'tariff', 'u', 'said', 'tom', 'murtha', 'stock', 'analyst', 'tokyo', 'office', 'broker', 'lt', 'james', 'capel', 'co', 'taiwan', 'businessmen', 'official', 'also', 'worried', 'aware', 'seriousness', 'u', 'threat', 'japan', 'serf', 'warning', 'u', 'said', 'senior', 'taiwanese', 'trade', 'official', 'asked', 'named', 'taiwan', 'trade', 'trade', 'surplus', '15', '6', 'billion', 'dlrs', 'last', 'year', '95', 'pct', 'u', 'surplus', 'helped', 'swell', 'taiwan', 'foreign', 'exchange', 'reserve', '53', 'billion', 'dlrs', 'among', 'world', 'largest', 'must', 'quickly', 'open', 'market', 'remove', 'trade', 'barrier', 'cut', 'import', 'tariff', 'allow', 'import', 'u', 'product', 'want', 'defuse', 'problem', 'possible', 'u', 'retaliation', 'said', 'paul', 'sheen', 'chairman', 'textile', 'exporter', 'lt', 'taiwan', 'safe', 'group', 'senior', 'official', 'south', 'korea', 'trade', 'promotion', 'association', 'said', 'trade', 'dispute', 'u', 'japan', 'might', 'also', 'lead', 'pressure', 'south', 'korea', 'whose', 'chief', 'export', 'similar', 'japan', 'last', 'year', 'south', 'korea', 'trade', 'surplus', '7', '1', 'billion', 'dlrs', 'u', '4', '9', 'billion', 'dlrs', '1985', 'malaysia', 'trade', 'officer', 'businessmen', 'said', 'tough', 'curb', 'japan', 'might', 'allow', 'hard', 'hit', 'producer', 'semiconductor', 'third', 'country', 'expand', 'sale', 'u', 'hong', 'kong', 'newspaper', 'alleged', 'japan', 'selling', 'cost', 'semiconductor', 'electronics', 'manufacturer', 'share', 'view', 'businessmen', 'said', 'short', 'term', 'commercial', 'advantage', 'would', 'outweighed', 'u', 'pressure', 'block', 'import', 'short', 'term', 'view', 'said', 'lawrence', 'mill', 'director', 'general', 'federation', 'hong', 'kong', 'industry', 'whole', 'purpose', 'prevent', 'import', 'one', 'day', 'extended', 'source', 'much', 'serious', 'hong', 'kong', 'disadvantage', 'action', 'restraining', 'trade', 'said', 'u', 'last', 'year', 'hong', 'kong', 'biggest', 'export', 'market', 'accounting', '30', 'pct', 'domestically', 'produced', 'export', 'australian', 'government', 'awaiting', 'outcome', 'trade', 'talk', 'u', 'japan', 'interest', 'concern', 'industry', 'minister', 'john', 'button', 'said', 'canberra', 'last', 'friday', 'kind', 'deterioration', 'trade', 'relation', 'two', 'country', 'major', 'trading', 'partner', 'serious', 'matter', 'button', 'said', 'said', 'australia', 'concern', 'centred', 'coal', 'beef', 'australia', 'two', 'largest', 'export', 'japan', 'also', 'significant', 'u', 'export', 'country', 'meanwhile', 'u', 'japanese', 'diplomatic', 'manoeuvre', 'solve', 'trade', 'stand', 'continue', 'japan', 'ruling', 'liberal', 'democratic', 'party', 'yesterday', 'outlined', 'package', 'economic', 'measure', 'boost', 'japanese', 'economy', 'measure', 'proposed', 'include', 'large', 'supplementary', 'budget', 'record', 'public', 'work', 'spending', 'first', 'half', 'financial', 'year', 'also', 'call', 'stepped', 'spending', 'emergency', 'measure', 'stimulate', 'economy', 'despite', 'prime', 'minister', 'yasuhiro', 'nakasone', 'avowed', 'fiscal', 'reform', 'program', 'deputy', 'u', 'trade', 'representative', 'michael', 'smith', 'makoto', 'kuroda', 'japan', 'deputy', 'minister', 'international', 'trade', 'industry', 'miti', 'due', 'meet', 'washington', 'week', 'effort', 'end', 'dispute'], ['trade'])\n"
     ]
    }
   ],
   "source": [
    "lemmatizer = WordNetLemmatizer()\n",
    "\n",
    "# Extract fileids from the reuters corpus\n",
    "fileids = reuters.fileids()\n",
    "\n",
    "# Get all the english stopwords\n",
    "stop_words = set(stopwords.words('english')) \n",
    "dataset = []\n",
    "\n",
    "# Loop through each file id and collect each files categories and tokenized words (w/o stopwords)\n",
    "for file in fileids:\n",
    "    words = reuters.words(file)\n",
    "    #filtered_words = [lemmatizer.lemmatize(w.lower()) for w in words if not w.lower() in stop_words and w[0].isalnum()]\n",
    "    dataset.append((words, reuters.categories(file)))\n",
    "\n",
    "print(dataset[0])"
   ]
  },
  {
   "cell_type": "markdown",
   "id": "distributed-switch",
   "metadata": {},
   "source": [
    "> Note: We've noticed that in the tokenized words of the corpus, the word `U.S` is split into three tokens"
   ]
  },
  {
   "cell_type": "markdown",
   "id": "contemporary-google",
   "metadata": {},
   "source": [
    "## Classifieurs binaire"
   ]
  },
  {
   "cell_type": "markdown",
   "id": "oriental-festival",
   "metadata": {},
   "source": [
    "### Premier classifieur"
   ]
  },
  {
   "cell_type": "code",
   "execution_count": null,
   "id": "radio-intermediate",
   "metadata": {},
   "outputs": [],
   "source": []
  },
  {
   "cell_type": "markdown",
   "id": "excellent-bikini",
   "metadata": {},
   "source": [
    "### Deuxième classifieur"
   ]
  },
  {
   "cell_type": "code",
   "execution_count": null,
   "id": "worth-ambassador",
   "metadata": {},
   "outputs": [],
   "source": []
  },
  {
   "cell_type": "markdown",
   "id": "induced-appearance",
   "metadata": {},
   "source": [
    "### Troisième classifieur"
   ]
  },
  {
   "cell_type": "code",
   "execution_count": null,
   "id": "confirmed-rachel",
   "metadata": {},
   "outputs": [],
   "source": []
  },
  {
   "cell_type": "markdown",
   "id": "forward-audio",
   "metadata": {},
   "source": [
    "## Classifieur multiclasse"
   ]
  },
  {
   "cell_type": "code",
   "execution_count": null,
   "id": "regulated-romania",
   "metadata": {},
   "outputs": [],
   "source": []
  },
  {
   "cell_type": "code",
   "execution_count": null,
   "id": "following-smart",
   "metadata": {},
   "outputs": [],
   "source": []
  }
 ],
 "metadata": {
  "kernelspec": {
   "display_name": "Python 3",
   "language": "python",
   "name": "python3"
  },
  "language_info": {
   "codemirror_mode": {
    "name": "ipython",
    "version": 3
   },
   "file_extension": ".py",
   "mimetype": "text/x-python",
   "name": "python",
   "nbconvert_exporter": "python",
   "pygments_lexer": "ipython3",
   "version": "3.7.10"
  }
 },
 "nbformat": 4,
 "nbformat_minor": 5
}
